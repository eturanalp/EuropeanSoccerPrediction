{
 "cells": [
  {
   "cell_type": "code",
   "execution_count": 44,
   "metadata": {
    "collapsed": true
   },
   "outputs": [],
   "source": [
    "#####  SIMPLE EUROPEAN SOCCER GAME PREDICTOR #####\n",
    "## This is a simple random forest predictor trained on match dataset from Kaggle Europen Soccer Database.\n",
    "## This code is a good starting point on which you can easily build your own solution.\n",
    "##\n",
    "##DATA:\n",
    "##   The match data is composed of three types of variables:\n",
    "##   1. The variables that identify the match like the teams, stage(arena), date ..etc.\n",
    "##   2. The betting odds\\coeficients that come from bookkepers\\betting sites like bet&win \n",
    "##      ('BWH' for home team winning odds, 'BWD' for odds of a draw  and 'BWA' for away team's odds of winning..)\n",
    "##   3. The players ids (11 for each team)\n",
    "##\n",
    "##CONCLUSION:\n",
    "##  After a couple of test runs, I found the following to be true about match dataset and RF:\n",
    "##  The features that contribute the most to the accuracy (in order) are: \n",
    "##          home team, away team, stage\\arena, betting odds and month (no surprises)\n",
    "##  Features like year, season, country and most players do not help.\n",
    "##  This simple classifier reaches an accuracy of 0.52 if all variables are used.\n",
    "##  Even when we use a very small subset (like 2 bookkepers and 3 players), the accuracy is compareable ~ 0.51.\n",
    "##  Using column means in place of NaNs did not help for bookkeper variables.\n",
    "##\n",
    "##COMPARISON:\n",
    "##  I will compare this notebook to one by harvinderwazir(Airback) at \n",
    "##  https://www.kaggle.com/harvinderwazir/d/hugomathien/soccer/match-outcome-prediction-in-football\n",
    "##  Airback's top accuracy is 0.55, it is based on PCA combination of multiple known methods like GaussianNB. \n",
    "##  Airback's time complexity is high, meaning that its training time is huge, \n",
    "##  so it was not run on the full dataset but rather on a subset of the match dataset.\n",
    "##  Airback utilizes all available features and it does not predict draws.\n",
    "##  Unlike Airback's, my random forest based solution is plain and simple. \n",
    "##  It runs on the full dataset without problems and hit a top accuracy of 0.52 after tweaking some parameters.\n",
    "##  My laptop(with A8 processor) cruched it in 3 minutes. \n",
    "##  It reaches 0.51 accuracy with minimal features and unlike Airback, it can predict draws.\n",
    "##\n",
    "##DISCUSSION:\n",
    "##1. I don't understand the use of features like corners and cards. This information can not be used \n",
    "##   as arguments to the prediction function since these events occur during the match. \n",
    "##   They may be subjected to time series analysis but this seems a far fetched relationship. \n",
    "##   Is there any solution that uses these features effectively?\n",
    "##2. This data can be used to create a feature to quantify the success trend of teams which may improve the accuracy.\n",
    "##   Such a feature could be the rate of past 5 match performance over the earlier ones.\n",
    "##   My attempt to create such a feature can be reached in my other post for this dataset.\n",
    "##3. All feedback\\comments wellcome.\n",
    "##\n",
    "import sqlite3\n",
    "import pandas as pd\n",
    "import numpy as np\n",
    "import matplotlib.pyplot as plt\n",
    "from time import time\n",
    "from random import sample\n",
    "import sklearn.ensemble as sk\n",
    "import sklearn.metrics as skm\n",
    "import pylab as pl\n",
    "import warnings\n",
    "warnings.filterwarnings('ignore')\n",
    "path = \"C:\\\\temp\\\\soccer\\\\\"  \n",
    "database = path + 'database.sqlite'\n",
    "conn = sqlite3.connect(database)\n",
    "match = pd.read_sql(\"SELECT * FROM Match;\", conn)\n",
    "m2 = pd.read_sql(\"SELECT away_player_X7,count(*) FROM Match GROUP BY away_player_X7;\", conn)\n"
   ]
  },
  {
   "cell_type": "code",
   "execution_count": 45,
   "metadata": {
    "collapsed": false
   },
   "outputs": [],
   "source": [
    "selected_cols=['home_team_api_id', 'away_team_api_id', 'home_team_goal', 'away_team_goal', \n",
    "                'date',  'country_id', 'league_id', 'season', 'stage']  \n",
    "match.dropna(subset = selected_cols, inplace = True) #should not have NaNs in these columns"
   ]
  },
  {
   "cell_type": "code",
   "execution_count": 46,
   "metadata": {
    "collapsed": false
   },
   "outputs": [],
   "source": [
    "# select a random subset of matches if you like to run on a short dataset (match dataframe has 26000 observations)\n",
    "#mm=match.loc[np.random.permutation(match.index)[:1000]]"
   ]
  },
  {
   "cell_type": "code",
   "execution_count": 47,
   "metadata": {
    "collapsed": false
   },
   "outputs": [],
   "source": [
    "# Use only these columns to build the RF based predicton model\n",
    "selected_cols=['home_team_api_id',\n",
    " 'away_team_api_id',\n",
    " 'home_team_goal',\n",
    " 'away_team_goal',\n",
    " 'date', \n",
    " 'country_id',\n",
    " 'league_id',\n",
    " 'season',\n",
    " 'stage',               \n",
    " 'B365H',  'BWH',  #'IWH',  'LBH', 'PSH',  'WHH',  'SJH',  'VCH',  'GBH',  'BSH',  # betting coefficients\\odds\n",
    " 'B365D',  'BWD',  #'IWD',  'LBD', 'PSD',  'WHD',  'SJD',  'VCD',  'GBD',  'BSD',  \n",
    " 'B365A',  'BWA',  #'IWA',  'LBA', 'PSA',  'WHA',  'SJA',  'VCA',  'GBA',  'BSA',\n",
    " 'home_player_7',\n",
    " 'away_player_7',\n",
    " 'home_player_10',\n",
    " 'home_player_11',\n",
    " 'away_player_10',\n",
    " 'away_player_11'\n",
    "              ]\n",
    "\n",
    "#Inevitable data cleaning\n",
    "mm2=match[selected_cols]\n",
    "mm2['BWH'].fillna(mm2['BWH'].mean(),inplace=True)\n",
    "mm2['BWA'].fillna(mm2['BWA'].mean(),inplace=True)\n",
    "mm2['BWD'].fillna(mm2['BWD'].mean(),inplace=True)\n",
    "mm2['B365H'].fillna(mm2['B365H'].mean(),inplace=True)\n",
    "mm2['B365A'].fillna(mm2['B365A'].mean(),inplace=True)\n",
    "mm2['B365D'].fillna(mm2['B365D'].mean(),inplace=True)\n",
    "mm2.fillna(0,inplace=True)\n",
    "\n",
    "# Add year and month columns , but they won't help much\n",
    "mm2['date'] = pd.to_datetime(mm2['date'])\n",
    "mm2 = mm2.assign(month=mm2['date'].dt.month)\n",
    "mm2['date'] = mm2['date'].dt.year\n",
    "mm2['season']= mm2['season'].str[:4]"
   ]
  },
  {
   "cell_type": "code",
   "execution_count": 48,
   "metadata": {
    "collapsed": false
   },
   "outputs": [],
   "source": [
    "mm=mm2"
   ]
  },
  {
   "cell_type": "code",
   "execution_count": 49,
   "metadata": {
    "collapsed": true
   },
   "outputs": [],
   "source": [
    "def train_validate_test_split(df, train_percent=.7, validate_percent=.15, seed=None):\n",
    "        # From stackoverflow.com\n",
    "    np.random.seed(seed)\n",
    "    perm = np.random.permutation(df.index)\n",
    "    m = len(df)\n",
    "    train_end = int(train_percent * m)\n",
    "    validate_end = int(validate_percent * m) + train_end\n",
    "    train = df.ix[perm[:train_end]]\n",
    "    validate = df.ix[perm[train_end:validate_end]]\n",
    "    test = df.ix[perm[validate_end:]]\n",
    "    return train, validate, test\n",
    "\n",
    "np.random.seed([3,4195])\n",
    "train, validate, test = train_validate_test_split(mm)"
   ]
  },
  {
   "cell_type": "code",
   "execution_count": 50,
   "metadata": {
    "collapsed": true
   },
   "outputs": [],
   "source": [
    "def result(a,b):\n",
    "  if (a>b) : return \"Win\"\n",
    "  if (a<b) : return \"Loss\"\n",
    "  return \"Draw\"\n",
    "# True classes for training, validation and test sets\n",
    "class_test=test.apply(lambda row: result(row['home_team_goal'], row['away_team_goal']), axis=1)\n",
    "class_validate=validate.apply(lambda row: result(row['home_team_goal'], row['away_team_goal']), axis=1)\n",
    "class_train=train.apply(lambda row: result(row['home_team_goal'], row['away_team_goal']), axis=1)\n",
    "#delete goals from data otherwise it is going to be real easy to predict!\n",
    "del test['home_team_goal']\n",
    "del test['away_team_goal']\n",
    "del train['home_team_goal']\n",
    "del train['away_team_goal']\n",
    "del validate['home_team_goal']\n",
    "del validate['away_team_goal']\n"
   ]
  },
  {
   "cell_type": "code",
   "execution_count": 51,
   "metadata": {
    "collapsed": false
   },
   "outputs": [
    {
     "data": {
      "text/plain": [
       "Win     1758\n",
       "Loss    1173\n",
       "Draw     965\n",
       "dtype: int64"
      ]
     },
     "execution_count": 51,
     "metadata": {},
     "output_type": "execute_result"
    }
   ],
   "source": [
    "class_validate.value_counts()"
   ]
  },
  {
   "cell_type": "code",
   "execution_count": 52,
   "metadata": {
    "collapsed": false
   },
   "outputs": [],
   "source": [
    "rfc = sk.RandomForestClassifier(n_estimators=400, oob_score=True, min_samples_leaf=1)\n",
    "model = rfc.fit(train, class_train)"
   ]
  },
  {
   "cell_type": "code",
   "execution_count": 53,
   "metadata": {
    "collapsed": false
   },
   "outputs": [
    {
     "data": {
      "text/plain": [
       "0.50332691778938687"
      ]
     },
     "execution_count": 53,
     "metadata": {},
     "output_type": "execute_result"
    }
   ],
   "source": [
    "rfc.oob_score_"
   ]
  },
  {
   "cell_type": "code",
   "execution_count": 54,
   "metadata": {
    "collapsed": false
   },
   "outputs": [
    {
     "name": "stdout",
     "output_type": "stream",
     "text": [
      "mean accuracy score for validation set = 0.518994\n"
     ]
    }
   ],
   "source": [
    "validate_predictions = rfc.predict(validate)\n",
    "print(\"mean accuracy score for validation set = %f\" %(rfc.score(validate, class_validate)))"
   ]
  },
  {
   "cell_type": "code",
   "execution_count": 55,
   "metadata": {
    "collapsed": false
   },
   "outputs": [
    {
     "data": {
      "image/png": "[encoded data removed]",
      "text/plain": [
       "<matplotlib.figure.Figure at 0x175fec34390>"
      ]
     },
     "metadata": {},
     "output_type": "display_data"
    }
   ],
   "source": [
    "test_cm = skm.confusion_matrix(class_validate,validate_predictions)\n",
    "pl.matshow(test_cm)\n",
    "pl.title('Confusion matrix for validation data\\n'\n",
    "         + '                               ')\n",
    "pl.colorbar()\n",
    "pl.show()"
   ]
  },
  {
   "cell_type": "code",
   "execution_count": 56,
   "metadata": {
    "collapsed": false
   },
   "outputs": [
    {
     "data": {
      "text/plain": [
       "array([[  75,  244,  646],\n",
       "       [  73,  527,  573],\n",
       "       [ 113,  225, 1420]])"
      ]
     },
     "execution_count": 56,
     "metadata": {},
     "output_type": "execute_result"
    }
   ],
   "source": [
    "# Confusion Matrix\n",
    "test_cm"
   ]
  },
  {
   "cell_type": "code",
   "execution_count": 57,
   "metadata": {
    "collapsed": false
   },
   "outputs": [
    {
     "data": {
      "text/plain": [
       "[(0.066607309557216707, 'away_player_7'),\n",
       " (0.065983021379441481, 'home_player_7'),\n",
       " (0.065483957580483851, 'away_player_10'),\n",
       " (0.065177556290075808, 'home_player_10'),\n",
       " (0.064385756249192169, 'home_player_11'),\n",
       " (0.063434804541350726, 'away_player_11'),\n",
       " (0.063353164057094291, 'home_team_api_id'),\n",
       " (0.062856329340168063, 'away_team_api_id'),\n",
       " (0.059726004219773629, 'stage'),\n",
       " (0.055320472644432767, 'BWA'),\n",
       " (0.054134104195175003, 'BWH'),\n",
       " (0.05263200146233047, 'B365H'),\n",
       " (0.052575974896161101, 'B365A'),\n",
       " (0.038692932923058775, 'month'),\n",
       " (0.038239405611635947, 'BWD'),\n",
       " (0.033586286907900394, 'B365D'),\n",
       " (0.029204527339671622, 'date'),\n",
       " (0.027187915516892133, 'season'),\n",
       " (0.020802168633895085, 'league_id'),\n",
       " (0.02061630665405002, 'country_id')]"
      ]
     },
     "execution_count": 57,
     "metadata": {},
     "output_type": "execute_result"
    }
   ],
   "source": [
    "#Feature Importance rank\n",
    "fi = enumerate(rfc.feature_importances_)\n",
    "cols = train.columns\n",
    "fi=[(value,cols[i]) for (i,value) in fi if value > 0.005]\n",
    "fi.sort(key=lambda tup: tup[0], reverse=True) \n",
    "fi"
   ]
  },
  {
   "cell_type": "code",
   "execution_count": null,
   "metadata": {
    "collapsed": true
   },
   "outputs": [],
   "source": []
  }
 ],
 "metadata": {
  "kernelspec": {
   "display_name": "Python 3",
   "language": "python",
   "name": "python3"
  },
  "language_info": {
   "codemirror_mode": {
    "name": "ipython",
    "version": 3
   },
   "file_extension": ".py",
   "mimetype": "text/x-python",
   "name": "python",
   "nbconvert_exporter": "python",
   "pygments_lexer": "ipython3",
   "version": "3.6.0"
  }
 },
 "nbformat": 4,
 "nbformat_minor": 2
}
